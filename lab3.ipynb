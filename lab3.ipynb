{
 "cells": [
  {
   "cell_type": "code",
   "execution_count": 1,
   "metadata": {},
   "outputs": [],
   "source": [
    "import numpy as np"
   ]
  },
  {
   "cell_type": "code",
   "execution_count": 11,
   "metadata": {},
   "outputs": [
    {
     "name": "stdout",
     "output_type": "stream",
     "text": [
      "Original Array [0 1 2 3 4 5 6 7 8]\n",
      "Array by reference [0 1 2 3 4 5 6 7 8]\n",
      "Original Array: [100   1   2   3   4   5   6   7   8] \n",
      " Reference Array: [100   1   2   3   4   5   6   7   8]\n",
      "Original Array: [100   1   2   3   4   5   6   7   8] \n",
      " Copy Array: [20  1  2  3  4  5  6  7  8]\n",
      "Array View: [100   1   2   3   4   5   6   7   8]\n",
      "Original Array: [300   1   2   3   4   5   6   7   8] \n",
      " View Array: [300   1   2   3   4   5   6   7   8]\n",
      "Original Array: [66000     1     2     3     4     5     6     7     8] \n",
      " View Array: [464   1   0   0   1   0   0   0   2   0   0   0   3   0   0   0   4   0\n",
      "   0   0   5   0   0   0   6   0   0   0   7   0   0   0   8   0   0   0]\n"
     ]
    }
   ],
   "source": [
    "## Exploring different ways of copying /referencing arrays\n",
    "arr_original = np.arange(0,9,1)\n",
    "print(f\"Original Array {arr_original}\")\n",
    "\n",
    "## Explore Memory Reference\n",
    "arr_by_ref = arr_original\n",
    "print(f\"Array by reference {arr_by_ref}\")\n",
    "\n",
    "arr_by_ref[0] = 100\n",
    "print(f\"Original Array: {arr_original} \\n Reference Array: {arr_by_ref}\")\n",
    "\n",
    "## Copying Array\n",
    "arr_copy = arr_original.copy()\n",
    "arr_copy[0] = 20\n",
    "print(f\"Original Array: {arr_original} \\n Copy Array: {arr_copy}\")\n",
    "\n",
    "## Array View\n",
    "arr_view = arr_original.view()\n",
    "print(f\"Array View: {arr_view}\")\n",
    "\n",
    "arr_view[0] = 300\n",
    "print(f\"Original Array: {arr_original} \\n View Array: {arr_view}\")\n",
    "\n",
    "arr_view2 = arr_original.view(np.int16)\n",
    "arr_original[0] = 66000\n",
    "print(f\"Original Array: {arr_original} \\n View Array: {arr_view2}\")\n",
    "\n"
   ]
  },
  {
   "cell_type": "code",
   "execution_count": 15,
   "metadata": {},
   "outputs": [
    {
     "name": "stdout",
     "output_type": "stream",
     "text": [
      "[1 2 3 4 5 6 7 8 9]\n",
      "Sum flatten: 45\n",
      "Elem: 1\n",
      "Elem: 2\n",
      "Elem: 3\n",
      "Elem: 4\n",
      "Elem: 5\n",
      "Elem: 6\n",
      "Elem: 7\n",
      "Elem: 8\n",
      "Elem: 9\n",
      "45\n"
     ]
    }
   ],
   "source": [
    "## TODO: Iterate over all elements in the array and print the sum using 1 loop\n",
    "\n",
    "numpy_array = np.array([[1,2,3],\n",
    "                        [4,5,6],\n",
    "                        [7,8,9]])\n",
    "\n",
    "# Creates a copy\n",
    "sum_ft = 0\n",
    "print(numpy_array.flatten())\n",
    "for elem in numpy_array.flatten():\n",
    "    sum_ft+=elem\n",
    "\n",
    "print(f\"Sum flatten: {sum_ft}\")\n",
    "\n",
    "sum = 0\n",
    "\n",
    "for elem in np.nditer(numpy_array):\n",
    "    sum += elem\n",
    "    print(f\"Elem: {elem}\")\n",
    "print(sum)\n"
   ]
  },
  {
   "cell_type": "code",
   "execution_count": 17,
   "metadata": {},
   "outputs": [
    {
     "name": "stdout",
     "output_type": "stream",
     "text": [
      "New Array: [ 9 11 13] \n",
      " is base True\n",
      "Con Array: [ 0  1  2  9 10 11] \n",
      " is base True\n"
     ]
    }
   ],
   "source": [
    "## Concatenation of np arrays\n",
    "\n",
    "first_array = np.arange(0,3)\n",
    "second_array = np.arange(9,12)\n",
    "\n",
    "new_array = first_array + second_array\n",
    "\n",
    "print(f\"New Array: {new_array} \\n is base {new_array.base==None}\")\n",
    "\n",
    "con_array = np.concatenate((first_array, second_array))\n",
    "\n",
    "print(f\"Con Array: {con_array} \\n is base {con_array.base==None}\")"
   ]
  },
  {
   "cell_type": "code",
   "execution_count": 29,
   "metadata": {},
   "outputs": [
    {
     "name": "stdout",
     "output_type": "stream",
     "text": [
      "Array 2d Original: \n",
      " [[0 1 2]\n",
      " [3 4 5]\n",
      " [6 7 8]]\n",
      "\n",
      " Adding 1 row: \n",
      " [[ 0  1  2]\n",
      " [ 3  4  5]\n",
      " [ 6  7  8]\n",
      " [ 9 10 11]]\n",
      "[[ 0  1  2  9]\n",
      " [ 3  4  5 10]\n",
      " [ 6  7  8 11]]\n",
      "[[ 0  1  2  9]\n",
      " [ 3  4  5 10]\n",
      " [ 6  7  8 11]]\n"
     ]
    }
   ],
   "source": [
    "array_2d_org = np.arange(0,9).reshape(3,3)\n",
    "print(f\"Array 2d Original: \\n {array_2d_org}\")\n",
    "\n",
    "### Approach 1\n",
    "np.concatenate((array_2d_org,second_array.reshape(1,3)))\n",
    "\n",
    "### Approach 2\n",
    "adding_1_row = np.vstack((array_2d_org, second_array))\n",
    "\n",
    "print(f\"\\n Adding 1 row: \\n {adding_1_row}\")\n",
    "\n",
    "print(np.concatenate((array_2d_org, second_array.reshape(3,1)), axis=1))\n",
    "\n",
    "print(np.hstack((array_2d_org, second_array.reshape(3,1))))\n"
   ]
  },
  {
   "cell_type": "code",
   "execution_count": null,
   "metadata": {},
   "outputs": [],
   "source": []
  }
 ],
 "metadata": {
  "kernelspec": {
   "display_name": "CSCN8010_classical_ml",
   "language": "python",
   "name": "python3"
  },
  "language_info": {
   "codemirror_mode": {
    "name": "ipython",
    "version": 3
   },
   "file_extension": ".py",
   "mimetype": "text/x-python",
   "name": "python",
   "nbconvert_exporter": "python",
   "pygments_lexer": "ipython3",
   "version": "3.12.5"
  }
 },
 "nbformat": 4,
 "nbformat_minor": 2
}
